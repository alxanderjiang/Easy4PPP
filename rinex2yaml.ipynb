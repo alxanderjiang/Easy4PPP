{
 "cells": [
  {
   "cell_type": "markdown",
   "id": "db1c9481",
   "metadata": {},
   "source": [
    "## Easy4PPP tutorials: rinex2yaml.ipynb\n",
    "### Description: A point to point tutorial about how to generate configuration files according to observation files quickly."
   ]
  },
  {
   "cell_type": "code",
   "execution_count": 15,
   "id": "c0ebab4f",
   "metadata": {},
   "outputs": [],
   "source": [
    "from src.ppp_yaml import Easy4PPP_YAML\n",
    "import os"
   ]
  },
  {
   "cell_type": "markdown",
   "id": "bbd4c9fa",
   "metadata": {},
   "source": [
    "This script shows an example of generating configurations according to RINEX observations (.o files) for GPS-only. The function \"Easy4PPP_YAML\" can set the most common configs automatically according to the interval of observation samples. The variable \"out_age\" can be generated automatically."
   ]
  },
  {
   "cell_type": "code",
   "execution_count": 16,
   "id": "b2bf2a5a",
   "metadata": {},
   "outputs": [
    {
     "name": "stdout",
     "output_type": "stream",
     "text": [
      "Configurations(.yaml) saved at: xmls/Easy4PPP_JFNG_G.yaml out_age= 31\n"
     ]
    }
   ],
   "source": [
    "#单系统全球测站\n",
    "stas=['jfng']\n",
    "doy=132\n",
    "year=2024\n",
    "clk_path=\"data/Peph_clk/20241320/wum23136.clk\"\n",
    "sp3_path=\"data/Peph_clk/20241320/wum23136.sp3\"\n",
    "atx_path=\"data/ATX/igs20.atx\"\n",
    "out_yaml_path=\"xmls\"\n",
    "brdc_path=\"data/brdc/BRDC00IGS_R_20241320000_01D_MN.rnx\"\n",
    "result_out_path=\"nav_result\"\n",
    "for sta in stas:\n",
    "    Easy4PPP_YAML(\"data/OBS/JFNG/{}{:03d}0.{:02d}o\".format(sta,doy,year%100),\n",
    "              SP3_file=sp3_path,\n",
    "              CLK_file=clk_path,\n",
    "              ATX_file=atx_path,\n",
    "              Yaml_path=out_yaml_path,\n",
    "              BRDC_file=brdc_path,\n",
    "              out_path=result_out_path,\n",
    "              sys_indexs=['G'],\n",
    "              ex_threshold_v=100,\n",
    "              GF_threshold=0.15)"
   ]
  },
  {
   "cell_type": "markdown",
   "id": "5a43320c",
   "metadata": {},
   "source": [
    "This script shows an example of generating configurations of all the RINEX observations (.o files) in a whole path for Multi-GNSS (GPS+BDS+GAL)."
   ]
  },
  {
   "cell_type": "code",
   "execution_count": 17,
   "id": "7df92978",
   "metadata": {},
   "outputs": [
    {
     "name": "stdout",
     "output_type": "stream",
     "text": [
      "Configurations(.yaml) saved at: xmls_mgex/Easy4PPP_JFNG_GCE.yaml out_age= 31\n"
     ]
    }
   ],
   "source": [
    "import os\n",
    "#MGEX测站\n",
    "obss_path=\"data/OBS/JFNG/\"   # The path of stored observation files\n",
    "out_yaml_path='xmls_mgex'    # The output path of automatically generated configuration files\n",
    "stas=[t for t in os.listdir(obss_path)]\n",
    "for sta in stas:\n",
    "    Easy4PPP_YAML(\"{}{}\".format(obss_path,sta),\n",
    "              \"data/Peph_clk/20241320/wum23136.sp3\",\n",
    "              \"data/Peph_clk/20241320/wum23136.clk\",\n",
    "              \"data/ATX/igs20.atx\",\n",
    "              out_yaml_path,\n",
    "              \"data/brdc/BRDC00IGS_R_20241320000_01D_MN.rnx\",\n",
    "              out_path=\"nav_result\",\n",
    "              sys_indexs=['G','C','E'],\n",
    "              ex_threshold_v=100,\n",
    "              GF_threshold=0.15,\n",
    "              obs_type=[['C1C','L1C','D1C','S1C','C2W','L2W','D2W','S2W'],\n",
    "                      ['C2I','L2I','D2I','S2I','C6I','L6I','D6I','S6I'],\n",
    "                      ['C1C','L1C','D1C','S1C','C5Q','L5Q','D5Q','S5Q']])"
   ]
  }
 ],
 "metadata": {
  "kernelspec": {
   "display_name": "Py312",
   "language": "python",
   "name": "python3"
  },
  "language_info": {
   "codemirror_mode": {
    "name": "ipython",
    "version": 3
   },
   "file_extension": ".py",
   "mimetype": "text/x-python",
   "name": "python",
   "nbconvert_exporter": "python",
   "pygments_lexer": "ipython3",
   "version": "3.12.0"
  }
 },
 "nbformat": 4,
 "nbformat_minor": 5
}
