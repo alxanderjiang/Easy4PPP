{
 "cells": [
  {
   "cell_type": "markdown",
   "id": "c51f773b",
   "metadata": {},
   "source": [
    "## Easy4PPP tutorials: ppp_yaml.ipynb\n",
    "### Description: A point to point tutorial about how to start PPP from configuration files."
   ]
  },
  {
   "cell_type": "code",
   "execution_count": null,
   "id": "78575a08",
   "metadata": {},
   "outputs": [],
   "source": [
    "import yaml\n",
    "import sys\n",
    "sys.path.append(\"src\")\n",
    "from satpos import *\n",
    "from sppp import *\n",
    "from sppp_multiGNSS import *\n",
    "from ppp_yaml import *"
   ]
  },
  {
   "cell_type": "markdown",
   "id": "dc49af29",
   "metadata": {},
   "source": [
    "This script is an example of starting Easy4PPP according to a singgle configuration files."
   ]
  },
  {
   "cell_type": "code",
   "execution_count": null,
   "id": "18b90505",
   "metadata": {},
   "outputs": [],
   "source": [
    "#读取yaml\n",
    "PPP_YAML=\"xmls/Easy4PPP_JFNG_G.yaml\"\n",
    "with open(PPP_YAML,\"r\") as f:\n",
    "    cfg=yaml.safe_load(f)\n",
    "#判断单/多系统分别执行\n",
    "if(len(cfg['sys_indexs'])==1):\n",
    "    print(\"sys_indexs set as single satellite system\")\n",
    "    PPP_YAML_Single(cfg)\n",
    "else:\n",
    "    print(\"sys_index set as multi-GNSS\")\n",
    "    PPP_YAML_GCE(cfg)\n",
    "\n"
   ]
  }
 ],
 "metadata": {
  "kernelspec": {
   "display_name": "Py312",
   "language": "python",
   "name": "python3"
  },
  "language_info": {
   "codemirror_mode": {
    "name": "ipython",
    "version": 3
   },
   "file_extension": ".py",
   "mimetype": "text/x-python",
   "name": "python",
   "nbconvert_exporter": "python",
   "pygments_lexer": "ipython3",
   "version": "3.12.0"
  }
 },
 "nbformat": 4,
 "nbformat_minor": 5
}
