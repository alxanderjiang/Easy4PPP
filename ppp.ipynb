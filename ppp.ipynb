{
 "cells": [
  {
   "cell_type": "markdown",
   "metadata": {},
   "source": [
    "## Easy4PPP tutorials: ppp.ipynb\n",
    "### Description: A point to point tutorial about how to use core computation libaries and construct the main function of UC-PPP"
   ]
  },
  {
   "cell_type": "markdown",
   "metadata": {},
   "source": [
    "#### 1. include the Easy4PPP source and dependencies. Attention: \"src\" needs to be added into system path in this Jupyter Notbook."
   ]
  },
  {
   "cell_type": "code",
   "execution_count": null,
   "metadata": {},
   "outputs": [],
   "source": [
    "import numpy as np\n",
    "import os\n",
    "from tqdm import tqdm\n",
    "import csv\n",
    "import sys\n",
    "sys.path.append(\"src\")\n",
    "from satpos import *\n",
    "from sppp import *"
   ]
  },
  {
   "cell_type": "markdown",
   "metadata": {},
   "source": [
    "#### 2. Set the observation data file path, obervation types, precise orbit and clock products path, antenna file path and output path of solution logs"
   ]
  },
  {
   "cell_type": "code",
   "execution_count": null,
   "metadata": {},
   "outputs": [],
   "source": [
    "#双频非差非组合PPP, 解算文件最小配置(观测值/观测值类型/精密星历文件/精密钟差文件/天线文件/结果输出路径)\n",
    "obs_file=\"data/OBS/JFNG/jfng1320.24o\"                        #观测值文件, RINEX3及以上\n",
    "obs_type=['C1C','L1C','D1C','S1C','C2W','L2W','D2W','S2W']   #观测值类型, 以RINEX协议为准\n",
    "SP3_file=\"data/Peph_clk/20241320/wum23136.sp3\"               #精密星历文件路径\n",
    "CLK_file=\"data/Peph_clk/20241320/wum23136.clk\"               #精密钟差文件路径\n",
    "ATX_file=\"data/ATX/igs20.atx\"                                #天线文件, 支持格式转换后的npy文件和IGS天线文件\n",
    "\n",
    "out_path=\"nav_result\"                                        #导航结果输出文件路径\n",
    "ion_param=[]                                                 #自定义Klobuchar电离层参数"
   ]
  },
  {
   "cell_type": "markdown",
   "metadata": {},
   "source": [
    "#### 3. Set the unnecessary file path and solution configs. The details about each variable is listed in UserMannul.pdf"
   ]
  },
  {
   "cell_type": "code",
   "execution_count": null,
   "metadata": {},
   "outputs": [],
   "source": [
    "#可选配置(广播星历文件/DCB改正与产品选项/)\n",
    "BRDC_file=\"data/brdc/BRDC00IGS_R_20241320000_01D_MN.rnx\"     #广播星历文件, 支持BRDC/RINEX3混合星历\n",
    "dcb_correction=1                                             #DCB修正选项\n",
    "dcb_products='CAS'                                           #DCB产品来源, 支持CODE月解文件/CAS日解文件\n",
    "dcb_file_0=\"data/DCB/CAS1OPSRAP_20241320000_01D_01D_DCB.BIA\" #频间偏差文件, 支持预先转换后的.npy格式\n",
    "dcb_file_1=\"\"\n",
    "dcb_file_2=\"\"\n",
    "\n",
    "obs_start=0                                     #解算初始时刻索引\n",
    "obs_epoch=0                                     #解算总历元数量\n",
    "out_age=31                                      #最大容忍失锁阈值时间(单位: s, 用于电离层、模糊度状态重置)\n",
    "sys_index=['G']                                 #此列表控制obsmat读取范围\n",
    "sys='GPS'                                       #配置解算系统, 支持GPS/BDS单系统\n",
    "dy_mode='static'                                #PPP动态模式配置, 支持static, dynamic\n",
    "f1=1575.42*1e6                                  #配置第一频率\n",
    "f2=1227.60*1e6                                  #配置第二频率\n",
    "\n",
    "el_threthod=15.0                                #设置截止高度角\n",
    "ex_threshold_v=30                               #设置先验残差阈值\n",
    "ex_threshold_v_sigma=4                          #设置后验残差阈值\n",
    "Mw_threshold=5.0                                #设置Mw组合周跳检验阈值\n",
    "GF_threshold=1.0                                #设置GF组合周跳检验阈值\n",
    "\n",
    "sat_out=[]                                      #设置排除卫星"
   ]
  },
  {
   "cell_type": "markdown",
   "metadata": {},
   "source": [
    "#### 4.The main function of how to construct PPP computation using Easy4PPP core source codes."
   ]
  },
  {
   "cell_type": "code",
   "execution_count": null,
   "metadata": {},
   "outputs": [],
   "source": [
    "#CAS DCB产品数据读取\n",
    "if(dcb_correction==1 and dcb_products=='CAS'):\n",
    "    dcb_file_0,_=CAS_DCB(dcb_file_0,obs_type[0],obs_type[4])\n",
    "    dcb_file_1=''       #CAS产品同时包含码间和频间偏差\n",
    "    dcb_file_2=''\n",
    "    \n",
    "#读取观测文件\n",
    "sys_code=['G','C','E','R']\n",
    "sys_number=['GPS','BDS','GAL','GLO']\n",
    "obs_mat=RINEX3_to_obsmat(obs_file,obs_type,sys=sys_code[sys_number.index(sys)],dcb_correction=dcb_correction,dcb_file_0=dcb_file_0,dcb_file_1=dcb_file_1,dcb_file_2=dcb_file_2)\n",
    "#删除CAS-DCB产品辅助文件\n",
    "if(dcb_file_0!=\"\"):\n",
    "    os.unlink(dcb_file_0)\n",
    "\n",
    "if(not obs_epoch):\n",
    "    obs_epoch=len(obs_mat)\n",
    "    print(\"End index not set, solve all the observations. Total: {}\".format(obs_epoch))\n",
    "    \n",
    "#读取精密轨道和钟差文件\n",
    "IGS=getsp3(SP3_file)\n",
    "clk=getclk(CLK_file)\n",
    "    \n",
    "#读取天线文件\n",
    "try:\n",
    "    #npy格式\n",
    "    sat_pcos=np.load(ATX_file,allow_pickle=True)\n",
    "    sat_pcos=eval(str(sat_pcos))\n",
    "except:\n",
    "    #ATX格式\n",
    "    sat_pcos=RINEX3_to_ATX(ATX_file)\n",
    "    \n",
    "#读取广播星历电离层参数\n",
    "if(not len(ion_param)):\n",
    "    ion_param=RINEX2ion_params(BRDC_file)\n",
    "    \n",
    "#根据配置设置卫星数量\n",
    "if(sys=='GPS'):\n",
    "    sat_num=32\n",
    "elif(sys=='BDS'):\n",
    "    sat_num=65\n",
    "else:\n",
    "    sat_num=0\n",
    "    \n",
    "\n",
    "#排除精密星历基准卫星\n",
    "IGS_PRNS=[list(t.keys())[2:] for t in IGS]\n",
    "igs_prns=[]\n",
    "for igs_prn in IGS_PRNS:\n",
    "    if igs_prn not in igs_prns:\n",
    "        igs_prns.append(igs_prn)\n",
    "IGS_PRNS=igs_prns.copy()\n",
    "if len(IGS_PRNS)-1:\n",
    "    for i in range(len(IGS_PRNS)-1):\n",
    "        t_PRNlists=set(IGS_PRNS[i])&set(IGS_PRNS[i+1])\n",
    "        IGS_PRNS[i+1]=t_PRNlists.copy()\n",
    "    IGS_PRNS=t_PRNlists.copy()\n",
    "else:\n",
    "    IGS_PRNS=IGS_PRNS[0]\n",
    "\n",
    "for sys in sys_index:\n",
    "    for prn in range(1,sat_num+1): \n",
    "        if(\"{}{:02d}\".format(sys,prn) not in IGS_PRNS):\n",
    "            sat_out.append(\"{}{:02d}\".format(sys,prn))\n",
    "print(\"Satellites outside for no precise eph\",sat_out)\n",
    "    \n",
    "#初始化PPP滤波器\n",
    "X,Pk,Qk,GF_sign,Mw_sign,slip_sign,dN_sign,X_time,phase_bias=init_UCPPP(obs_mat,obs_start,IGS,clk,sat_out,ion_param,sat_pcos,sys_sat_num=sat_num,f1=f1,f2=f2)\n",
    "    \n",
    "#非差非组合PPP解算\n",
    "Out_log=UCPPP(obs_mat,obs_start,obs_epoch,IGS,clk,sat_out,ion_param,sat_pcos,\n",
    "                  el_threthod=el_threthod,ex_threshold_v=ex_threshold_v,ex_threshold_v_sigma=ex_threshold_v_sigma,\n",
    "                  Mw_threshold=Mw_threshold,GF_threshold=GF_threshold,dy_mode=dy_mode,\n",
    "                X=X,Pk=Pk,Qk=Qk,X_time=X_time,phase_bias=phase_bias,GF_sign=GF_sign,Mw_sign=Mw_sign,slip_sign=slip_sign,dN_sign=dN_sign,sat_num=sat_num,out_age=out_age,f1=f1,f2=f2)\n",
    "    \n",
    "#结果以numpy数组格式保存在指定输出目录下, 若输出目录为空, 则存于nav_result\n",
    "try:\n",
    "    np.save(out_path+'/{}.out'.format(os.path.basename(obs_file)),Out_log,allow_pickle=True)\n",
    "except:\n",
    "    np.save('nav_result/{}.out'.format(os.path.basename(obs_file)),Out_log,allow_pickle=True)"
   ]
  }
 ],
 "metadata": {
  "kernelspec": {
   "display_name": "base",
   "language": "python",
   "name": "python3"
  },
  "language_info": {
   "codemirror_mode": {
    "name": "ipython",
    "version": 3
   },
   "file_extension": ".py",
   "mimetype": "text/x-python",
   "name": "python",
   "nbconvert_exporter": "python",
   "pygments_lexer": "ipython3",
   "version": "3.9.12"
  }
 },
 "nbformat": 4,
 "nbformat_minor": 2
}
